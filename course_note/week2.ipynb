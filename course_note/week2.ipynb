{
 "cells": [
  {
   "cell_type": "code",
   "id": "initial_id",
   "metadata": {
    "collapsed": true,
    "ExecuteTime": {
     "end_time": "2025-07-24T02:48:16.832500Z",
     "start_time": "2025-07-24T02:48:16.829166Z"
    }
   },
   "source": "t=('Lucy',('Math',90))",
   "outputs": [],
   "execution_count": 1
  },
  {
   "metadata": {
    "ExecuteTime": {
     "end_time": "2025-07-24T02:48:21.097506Z",
     "start_time": "2025-07-24T02:48:21.092115Z"
    }
   },
   "cell_type": "code",
   "source": "list(t)",
   "id": "497da97547746836",
   "outputs": [
    {
     "data": {
      "text/plain": [
       "['Lucy', ('Math', 90)]"
      ]
     },
     "execution_count": 2,
     "metadata": {},
     "output_type": "execute_result"
    }
   ],
   "execution_count": 2
  },
  {
   "metadata": {
    "ExecuteTime": {
     "end_time": "2025-07-24T02:51:28.551059Z",
     "start_time": "2025-07-24T02:51:28.548500Z"
    }
   },
   "cell_type": "code",
   "source": [
    "a='first'\n",
    "b=list(a)"
   ],
   "id": "bbd4963992f21fe1",
   "outputs": [],
   "execution_count": 12
  },
  {
   "metadata": {
    "ExecuteTime": {
     "end_time": "2025-07-24T02:53:00.771123Z",
     "start_time": "2025-07-24T02:53:00.767147Z"
    }
   },
   "cell_type": "code",
   "source": [
    "data=['Born on:','July',2,2005]\n",
    "for item in data:\n",
    "    print(item,end=' ')"
   ],
   "id": "578332e4b009217b",
   "outputs": [
    {
     "name": "stdout",
     "output_type": "stream",
     "text": [
      "Born on: July 2 2005 "
     ]
    }
   ],
   "execution_count": 13
  },
  {
   "metadata": {
    "ExecuteTime": {
     "end_time": "2025-07-24T02:53:56.128099Z",
     "start_time": "2025-07-24T02:53:56.124919Z"
    }
   },
   "cell_type": "code",
   "source": [
    "data=['Born on:','July',2,2005]\n",
    "for i in range(len(data)):\n",
    "    print(data[i],end=' ')"
   ],
   "id": "c58a37d936b2c52",
   "outputs": [
    {
     "name": "stdout",
     "output_type": "stream",
     "text": [
      "Born on: July 2 2005 "
     ]
    }
   ],
   "execution_count": 14
  },
  {
   "metadata": {
    "ExecuteTime": {
     "end_time": "2025-07-27T05:19:32.820410Z",
     "start_time": "2025-07-27T05:19:32.817393Z"
    }
   },
   "cell_type": "code",
   "source": "s1=set(\"set\")",
   "id": "ebe1bce558da6f78",
   "outputs": [],
   "execution_count": 2
  }
 ],
 "metadata": {
  "kernelspec": {
   "display_name": "Python 3",
   "language": "python",
   "name": "python3"
  },
  "language_info": {
   "codemirror_mode": {
    "name": "ipython",
    "version": 2
   },
   "file_extension": ".py",
   "mimetype": "text/x-python",
   "name": "python",
   "nbconvert_exporter": "python",
   "pygments_lexer": "ipython2",
   "version": "2.7.6"
  }
 },
 "nbformat": 4,
 "nbformat_minor": 5
}

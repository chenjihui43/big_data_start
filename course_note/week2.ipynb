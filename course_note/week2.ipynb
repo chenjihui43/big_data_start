{
 "cells": [
  {
   "metadata": {
    "ExecuteTime": {
     "end_time": "2025-07-27T06:44:10.929892Z",
     "start_time": "2025-07-27T06:44:10.908085Z"
    }
   },
   "cell_type": "code",
   "source": [
    "x=1,2,3\n",
    "x"
   ],
   "id": "c0495239fffae037",
   "outputs": [
    {
     "data": {
      "text/plain": [
       "(1, 2, 3)"
      ]
     },
     "execution_count": 3,
     "metadata": {},
     "output_type": "execute_result"
    }
   ],
   "execution_count": 3
  },
  {
   "metadata": {
    "ExecuteTime": {
     "end_time": "2025-07-27T07:07:17.405418Z",
     "start_time": "2025-07-27T07:07:10.955397Z"
    }
   },
   "cell_type": "code",
   "source": [
    "fname=input(\"请输入要打开的文件：\")\n",
    "fo=open(fname,\"r\")\n",
    "for line in fo.readlines():\n",
    "    print(line,end=\"\")\n",
    "fo.close()"
   ],
   "id": "c309b184d5634071",
   "outputs": [
    {
     "name": "stdout",
     "output_type": "stream",
     "text": [
      "aaa\n",
      "bbb"
     ]
    }
   ],
   "execution_count": 5
  },
  {
   "metadata": {
    "ExecuteTime": {
     "end_time": "2025-07-27T07:16:00.695661Z",
     "start_time": "2025-07-27T07:15:54.062727Z"
    }
   },
   "cell_type": "code",
   "source": [
    "fname = input(\"请输入要打开的文件：\")\n",
    "# 关键修改：添加 encoding=\"utf-8\"\n",
    "fo = open(fname, \"w+\", encoding=\"utf-8\")  # 指定UTF-8编码\n",
    "ls = [\"唐诗\\n\", \"宋词\\n\", \"元曲\\n\"]  # 添加换行符保持格式\n",
    "fo.writelines(ls)\n",
    "fo.seek(0)  # 将文件指针移回开头\n",
    "for line in fo:\n",
    "    print(line, end=\"\")\n",
    "fo.close()"
   ],
   "id": "73fa3aea36242710",
   "outputs": [
    {
     "name": "stdout",
     "output_type": "stream",
     "text": [
      "唐诗\n",
      "宋词\n",
      "元曲\n"
     ]
    }
   ],
   "execution_count": 10
  }
 ],
 "metadata": {
  "kernelspec": {
   "display_name": "Python 3",
   "language": "python",
   "name": "python3"
  },
  "language_info": {
   "codemirror_mode": {
    "name": "ipython",
    "version": 2
   },
   "file_extension": ".py",
   "mimetype": "text/x-python",
   "name": "python",
   "nbconvert_exporter": "python",
   "pygments_lexer": "ipython2",
   "version": "2.7.6"
  }
 },
 "nbformat": 4,
 "nbformat_minor": 5
}

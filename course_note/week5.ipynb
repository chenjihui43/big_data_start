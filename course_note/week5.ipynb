{
 "cells": [
  {
   "cell_type": "code",
   "execution_count": null,
   "id": "initial_id",
   "metadata": {
    "collapsed": true
   },
   "outputs": [],
   "source": [
    "import numpy as np\n",
    "names=np.array(['王伟','小靓颖','许嵩'],dtype='<U3')\n"
   ]
  },
  {
   "metadata": {
    "ExecuteTime": {
     "end_time": "2025-07-29T00:04:32.675426Z",
     "start_time": "2025-07-29T00:04:31.836246Z"
    }
   },
   "cell_type": "code",
   "source": [
    "from pandas import DataFrame\n",
    "\n",
    "data=[[70,85,77,90,82,84,89],\n",
    "      [60,64,80,75,80,92,90],\n",
    "      [90,93,88,87,86,90,91],\n",
    "      [80,82,91,88,83,86,80],\n",
    "      [88,72,78,90,91,73,80]]\n",
    "studentsScore=DataFrame(data,index=['王微','肖良英','方企稳','刘需杨','钱一命'],columns=['Math','English','Python','Chinese','Art','Database','Physics'])\n",
    "studentsScore"
   ],
   "id": "beae6919e4cc0d0c",
   "outputs": [
    {
     "data": {
      "text/plain": [
       "     Math  English  Python  Chinese  Art  Database  Physics\n",
       "王微     70       85      77       90   82        84       89\n",
       "肖良英    60       64      80       75   80        92       90\n",
       "方企稳    90       93      88       87   86        90       91\n",
       "刘需杨    80       82      91       88   83        86       80\n",
       "钱一命    88       72      78       90   91        73       80"
      ],
      "text/html": [
       "<div>\n",
       "<style scoped>\n",
       "    .dataframe tbody tr th:only-of-type {\n",
       "        vertical-align: middle;\n",
       "    }\n",
       "\n",
       "    .dataframe tbody tr th {\n",
       "        vertical-align: top;\n",
       "    }\n",
       "\n",
       "    .dataframe thead th {\n",
       "        text-align: right;\n",
       "    }\n",
       "</style>\n",
       "<table border=\"1\" class=\"dataframe\">\n",
       "  <thead>\n",
       "    <tr style=\"text-align: right;\">\n",
       "      <th></th>\n",
       "      <th>Math</th>\n",
       "      <th>English</th>\n",
       "      <th>Python</th>\n",
       "      <th>Chinese</th>\n",
       "      <th>Art</th>\n",
       "      <th>Database</th>\n",
       "      <th>Physics</th>\n",
       "    </tr>\n",
       "  </thead>\n",
       "  <tbody>\n",
       "    <tr>\n",
       "      <th>王微</th>\n",
       "      <td>70</td>\n",
       "      <td>85</td>\n",
       "      <td>77</td>\n",
       "      <td>90</td>\n",
       "      <td>82</td>\n",
       "      <td>84</td>\n",
       "      <td>89</td>\n",
       "    </tr>\n",
       "    <tr>\n",
       "      <th>肖良英</th>\n",
       "      <td>60</td>\n",
       "      <td>64</td>\n",
       "      <td>80</td>\n",
       "      <td>75</td>\n",
       "      <td>80</td>\n",
       "      <td>92</td>\n",
       "      <td>90</td>\n",
       "    </tr>\n",
       "    <tr>\n",
       "      <th>方企稳</th>\n",
       "      <td>90</td>\n",
       "      <td>93</td>\n",
       "      <td>88</td>\n",
       "      <td>87</td>\n",
       "      <td>86</td>\n",
       "      <td>90</td>\n",
       "      <td>91</td>\n",
       "    </tr>\n",
       "    <tr>\n",
       "      <th>刘需杨</th>\n",
       "      <td>80</td>\n",
       "      <td>82</td>\n",
       "      <td>91</td>\n",
       "      <td>88</td>\n",
       "      <td>83</td>\n",
       "      <td>86</td>\n",
       "      <td>80</td>\n",
       "    </tr>\n",
       "    <tr>\n",
       "      <th>钱一命</th>\n",
       "      <td>88</td>\n",
       "      <td>72</td>\n",
       "      <td>78</td>\n",
       "      <td>90</td>\n",
       "      <td>91</td>\n",
       "      <td>73</td>\n",
       "      <td>80</td>\n",
       "    </tr>\n",
       "  </tbody>\n",
       "</table>\n",
       "</div>"
      ]
     },
     "execution_count": 1,
     "metadata": {},
     "output_type": "execute_result"
    }
   ],
   "execution_count": 1
  }
 ],
 "metadata": {
  "kernelspec": {
   "display_name": "Python 3",
   "language": "python",
   "name": "python3"
  },
  "language_info": {
   "codemirror_mode": {
    "name": "ipython",
    "version": 2
   },
   "file_extension": ".py",
   "mimetype": "text/x-python",
   "name": "python",
   "nbconvert_exporter": "python",
   "pygments_lexer": "ipython2",
   "version": "2.7.6"
  }
 },
 "nbformat": 4,
 "nbformat_minor": 5
}
